{
 "cells": [
  {
   "cell_type": "code",
   "execution_count": 21,
   "metadata": {},
   "outputs": [
    {
     "name": "stdout",
     "output_type": "stream",
     "text": [
      "['это ', '\"', 'пример строки', '', '\"', ', которую ', '', '\"', 'нуж но', '', '\"', ' разделить на части', '']\n",
      "['это ', '\"', 'пример строки', '', '\"', ', которую ', '', '\"', 'нуж но', '', '\"', ' разделить на части', '']\n"
     ]
    }
   ],
   "source": [
    "import re\n",
    "s = 'это \"пример строки\", которую \"нуж но\" разделить на части'\n",
    "\n",
    "# регулярное выражение, которое разделяет строку по пробелам, но не внутри кавычек\n",
    "# pattern = r'\\s+(?=([^\"]*\"[^\"]*\")*[^\"]*$)'\n",
    "pattern = r'(\"|\\')([^\"\\']+)'\n",
    "pattern1 = r'(\")([^\"]+)'\n",
    "# pattern1 = r'^1.*1$'\n",
    "pattern2 =  r'[(\".*\")( .*)]'\n",
    "\n",
    "\n",
    "\n",
    "# используем регулярное выражение для разделения строки на список частей\n",
    "parts = re.split(pattern, s)\n",
    "print(parts)\n",
    "\n",
    "# print(s.split(\" \"))\n",
    "parts = re.split(pattern1, s)\n",
    "print(parts)\n",
    "\n",
    "\n",
    "# s = 'это 1пример строки1, к1отору1ю \"нужно\" разделить на части'\n",
    "\n",
    "\n",
    "\n",
    "# parts = re.split(pattern, s)\n",
    "# print(parts)\n",
    "# print(s)\n",
    "# print(s.split(pattern))"
   ]
  },
  {
   "cell_type": "code",
   "execution_count": 31,
   "metadata": {},
   "outputs": [
    {
     "name": "stdout",
     "output_type": "stream",
     "text": [
      "['\"ываы\"', '-45', '', '56', '\"пример стро\\'ки\",', 'которую', '\"нуж но\"', 'разделить', 'на', 'части', '\"dtlm nfr\"', '', '']\n"
     ]
    }
   ],
   "source": [
    "import re\n",
    "s = '\"ываы\" -45  56 \"пример стро\\'ки\", которую \"нуж но\" разделить на части \"dtlm nfr\"  '\n",
    "\n",
    "# pattern2 =  r'(\".+?\")'\n",
    "pattern2 =  r\"\\s(?=(?:[^\\\"]*\\\"[^\\\"]*\\\")*[^\\\"]*$)\"\n",
    "# pattern2 =  r'[(\\\".*\\\")( .*)]'\n",
    "# pattern2 =  r'[(\\\".*\\\")( .*)]'\n",
    "print(re.split(pattern2, s))"
   ]
  }
 ],
 "metadata": {
  "kernelspec": {
   "display_name": "Python 3",
   "language": "python",
   "name": "python3"
  },
  "language_info": {
   "codemirror_mode": {
    "name": "ipython",
    "version": 3
   },
   "file_extension": ".py",
   "mimetype": "text/x-python",
   "name": "python",
   "nbconvert_exporter": "python",
   "pygments_lexer": "ipython3",
   "version": "3.10.6"
  },
  "orig_nbformat": 4
 },
 "nbformat": 4,
 "nbformat_minor": 2
}
